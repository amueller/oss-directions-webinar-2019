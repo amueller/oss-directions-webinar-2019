{
 "cells": [
  {
   "cell_type": "code",
   "execution_count": 1,
   "metadata": {},
   "outputs": [],
   "source": [
    "%matplotlib inline\n",
    "import matplotlib.pyplot as plt\n",
    "import numpy as np\n",
    "import pandas as pd\n",
    "import sklearn\n",
    "# new in 0.21!\n",
    "sklearn.set_config(print_changed_only=True)"
   ]
  },
  {
   "cell_type": "markdown",
   "metadata": {},
   "source": [
    "# Roadmap and Directions\n",
    "\n",
    "Also see https://scikit-learn.org/dev/roadmap.html"
   ]
  },
  {
   "cell_type": "markdown",
   "metadata": {},
   "source": [
    "## Feature Names"
   ]
  },
  {
   "cell_type": "code",
   "execution_count": 6,
   "metadata": {},
   "outputs": [],
   "source": [
    "from sklearn.model_selection import train_test_split\n",
    "churn = pd.read_csv(\"WA_Fn-UseC_-Telco-Customer-Churn.csv\")\n",
    "X = churn.drop(['customerID', 'Churn'], axis=1)\n",
    "y = churn.Churn\n",
    "X.TotalCharges.replace(\" \", np.NaN, inplace=True)\n",
    "continuous_columns = ['tenure', 'MonthlyCharges', 'TotalCharges']\n",
    "categorical_columns = [c for c in X.columns if c not in continuous_columns]\n",
    "X_train, X_test, y_train, y_test = train_test_split(X, y, stratify=y)"
   ]
  },
  {
   "cell_type": "code",
   "execution_count": 17,
   "metadata": {},
   "outputs": [],
   "source": [
    "from sklearn.pipeline import make_pipeline\n",
    "from sklearn.compose import ColumnTransformer\n",
    "from sklearn.preprocessing import StandardScaler, OneHotEncoder\n",
    "from sklearn.impute import SimpleImputer\n",
    "\n",
    "cont_preprocessing = make_pipeline(StandardScaler(), SimpleImputer())\n",
    "\n",
    "ct = ColumnTransformer([(\"continuous\", cont_preprocessing, continuous_columns),\n",
    "                        (\"categorical\", OneHotEncoder(), categorical_columns)])\n",
    "X_train_pre = ct.fit_transform(X_train)"
   ]
  },
  {
   "cell_type": "code",
   "execution_count": 18,
   "metadata": {},
   "outputs": [
    {
     "data": {
      "text/plain": [
       "pandas.core.frame.DataFrame"
      ]
     },
     "execution_count": 18,
     "metadata": {},
     "output_type": "execute_result"
    }
   ],
   "source": [
    "type(X_train)"
   ]
  },
  {
   "cell_type": "code",
   "execution_count": 19,
   "metadata": {},
   "outputs": [
    {
     "data": {
      "text/plain": [
       "(5282, 19)"
      ]
     },
     "execution_count": 19,
     "metadata": {},
     "output_type": "execute_result"
    }
   ],
   "source": [
    "X_train.shape"
   ]
  },
  {
   "cell_type": "code",
   "execution_count": 20,
   "metadata": {},
   "outputs": [
    {
     "data": {
      "text/plain": [
       "Index(['gender', 'SeniorCitizen', 'Partner', 'Dependents', 'tenure',\n",
       "       'PhoneService', 'MultipleLines', 'InternetService', 'OnlineSecurity',\n",
       "       'OnlineBackup', 'DeviceProtection', 'TechSupport', 'StreamingTV',\n",
       "       'StreamingMovies', 'Contract', 'PaperlessBilling', 'PaymentMethod',\n",
       "       'MonthlyCharges', 'TotalCharges'],\n",
       "      dtype='object')"
      ]
     },
     "execution_count": 20,
     "metadata": {},
     "output_type": "execute_result"
    }
   ],
   "source": [
    "X_train.columns"
   ]
  },
  {
   "cell_type": "code",
   "execution_count": 21,
   "metadata": {},
   "outputs": [
    {
     "data": {
      "text/plain": [
       "(5282, 46)"
      ]
     },
     "execution_count": 21,
     "metadata": {},
     "output_type": "execute_result"
    }
   ],
   "source": [
    "X_train_pre.shape"
   ]
  },
  {
   "cell_type": "code",
   "execution_count": 22,
   "metadata": {},
   "outputs": [
    {
     "data": {
      "text/plain": [
       "numpy.ndarray"
      ]
     },
     "execution_count": 22,
     "metadata": {},
     "output_type": "execute_result"
    }
   ],
   "source": [
    "type(X_train_pre)"
   ]
  },
  {
   "cell_type": "code",
   "execution_count": 23,
   "metadata": {},
   "outputs": [
    {
     "data": {
      "text/plain": [
       "['continuous__tenure',\n",
       " 'continuous__MonthlyCharges',\n",
       " 'continuous__TotalCharges',\n",
       " 'categorical__gender_Female',\n",
       " 'categorical__gender_Male',\n",
       " 'categorical__SeniorCitizen_0',\n",
       " 'categorical__SeniorCitizen_1',\n",
       " 'categorical__Partner_No',\n",
       " 'categorical__Partner_Yes',\n",
       " 'categorical__Dependents_No',\n",
       " 'categorical__Dependents_Yes',\n",
       " 'categorical__PhoneService_No',\n",
       " 'categorical__PhoneService_Yes',\n",
       " 'categorical__MultipleLines_No',\n",
       " 'categorical__MultipleLines_No phone service',\n",
       " 'categorical__MultipleLines_Yes',\n",
       " 'categorical__InternetService_DSL',\n",
       " 'categorical__InternetService_Fiber optic',\n",
       " 'categorical__InternetService_No',\n",
       " 'categorical__OnlineSecurity_No',\n",
       " 'categorical__OnlineSecurity_No internet service',\n",
       " 'categorical__OnlineSecurity_Yes',\n",
       " 'categorical__OnlineBackup_No',\n",
       " 'categorical__OnlineBackup_No internet service',\n",
       " 'categorical__OnlineBackup_Yes',\n",
       " 'categorical__DeviceProtection_No',\n",
       " 'categorical__DeviceProtection_No internet service',\n",
       " 'categorical__DeviceProtection_Yes',\n",
       " 'categorical__TechSupport_No',\n",
       " 'categorical__TechSupport_No internet service',\n",
       " 'categorical__TechSupport_Yes',\n",
       " 'categorical__StreamingTV_No',\n",
       " 'categorical__StreamingTV_No internet service',\n",
       " 'categorical__StreamingTV_Yes',\n",
       " 'categorical__StreamingMovies_No',\n",
       " 'categorical__StreamingMovies_No internet service',\n",
       " 'categorical__StreamingMovies_Yes',\n",
       " 'categorical__Contract_Month-to-month',\n",
       " 'categorical__Contract_One year',\n",
       " 'categorical__Contract_Two year',\n",
       " 'categorical__PaperlessBilling_No',\n",
       " 'categorical__PaperlessBilling_Yes',\n",
       " 'categorical__PaymentMethod_Bank transfer (automatic)',\n",
       " 'categorical__PaymentMethod_Credit card (automatic)',\n",
       " 'categorical__PaymentMethod_Electronic check',\n",
       " 'categorical__PaymentMethod_Mailed check']"
      ]
     },
     "execution_count": 23,
     "metadata": {},
     "output_type": "execute_result"
    }
   ],
   "source": [
    "# this uses the branch at https://github.com/scikit-learn/scikit-learn/pull/13307\n",
    "ct.get_feature_names()"
   ]
  },
  {
   "cell_type": "markdown",
   "metadata": {},
   "source": [
    "## Categorical and Missing values"
   ]
  },
  {
   "cell_type": "code",
   "execution_count": 35,
   "metadata": {},
   "outputs": [
    {
     "data": {
      "text/html": [
       "<div>\n",
       "<style scoped>\n",
       "    .dataframe tbody tr th:only-of-type {\n",
       "        vertical-align: middle;\n",
       "    }\n",
       "\n",
       "    .dataframe tbody tr th {\n",
       "        vertical-align: top;\n",
       "    }\n",
       "\n",
       "    .dataframe thead th {\n",
       "        text-align: right;\n",
       "    }\n",
       "</style>\n",
       "<table border=\"1\" class=\"dataframe\">\n",
       "  <thead>\n",
       "    <tr style=\"text-align: right;\">\n",
       "      <th></th>\n",
       "      <th>species</th>\n",
       "      <th>police district</th>\n",
       "    </tr>\n",
       "  </thead>\n",
       "  <tbody>\n",
       "    <tr>\n",
       "      <th>0</th>\n",
       "      <td>Ornamental Pear</td>\n",
       "      <td>3.0</td>\n",
       "    </tr>\n",
       "    <tr>\n",
       "      <th>1</th>\n",
       "      <td>NaN</td>\n",
       "      <td>8.0</td>\n",
       "    </tr>\n",
       "    <tr>\n",
       "      <th>2</th>\n",
       "      <td>Red Maple</td>\n",
       "      <td>NaN</td>\n",
       "    </tr>\n",
       "    <tr>\n",
       "      <th>3</th>\n",
       "      <td>Flaxleaf Paperbark</td>\n",
       "      <td>3.0</td>\n",
       "    </tr>\n",
       "  </tbody>\n",
       "</table>\n",
       "</div>"
      ],
      "text/plain": [
       "              species  police district\n",
       "0     Ornamental Pear              3.0\n",
       "1                 NaN              8.0\n",
       "2           Red Maple              NaN\n",
       "3  Flaxleaf Paperbark              3.0"
      ]
     },
     "execution_count": 35,
     "metadata": {},
     "output_type": "execute_result"
    }
   ],
   "source": [
    "X = pd.DataFrame({'species': ['Ornamental Pear', np.NaN, 'Red Maple', 'Flaxleaf Paperbark'],\n",
    "                  'police district': [3, 8, None, 3]})\n",
    "#X['police district'] = X['police district'].astype(\"Int64\")\n",
    "X"
   ]
  },
  {
   "cell_type": "code",
   "execution_count": 36,
   "metadata": {},
   "outputs": [
    {
     "data": {
      "text/plain": [
       "array([['Ornamental Pear', 3.0],\n",
       "       ['missing', 8.0],\n",
       "       ['Red Maple', 'missing'],\n",
       "       ['Flaxleaf Paperbark', 3.0]], dtype=object)"
      ]
     },
     "execution_count": 36,
     "metadata": {},
     "output_type": "execute_result"
    }
   ],
   "source": [
    "imputer = SimpleImputer(strategy='constant', fill_value='missing')\n",
    "imputer.fit_transform(X)"
   ]
  },
  {
   "cell_type": "markdown",
   "metadata": {},
   "source": [
    "## Hyper-parameter tuning"
   ]
  },
  {
   "cell_type": "markdown",
   "metadata": {},
   "source": [
    "### Successive Halving et al\n",
    "\n",
    "https://github.com/scikit-learn/scikit-learn/pull/13900"
   ]
  },
  {
   "cell_type": "markdown",
   "metadata": {},
   "source": [
    "### Redundant computation in Pipelines and Grid Search\n",
    "\n",
    "https://dask-ml.readthedocs.io/en/latest/hyper-parameter-search.html\n",
    "\n"
   ]
  },
  {
   "cell_type": "code",
   "execution_count": 38,
   "metadata": {},
   "outputs": [],
   "source": [
    "from sklearn.feature_extraction.text import CountVectorizer, TfidfTransformer\n",
    "from sklearn.linear_model import SGDClassifier\n",
    "from sklearn.pipeline import Pipeline\n",
    "\n",
    "pipeline = Pipeline([('vect', CountVectorizer()),\n",
    "                     ('tfidf', TfidfTransformer()),\n",
    "                     ('clf', SGDClassifier())])\n",
    "\n",
    "grid = {'vect__ngram_range': [(1, 1)],\n",
    "        'tfidf__norm': ['l1', 'l2'],\n",
    "        'clf__alpha': [1e-3, 1e-4, 1e-5]}"
   ]
  },
  {
   "cell_type": "markdown",
   "metadata": {},
   "source": [
    "![grid-graph](unmerged_grid_search_graph.svg)"
   ]
  },
  {
   "cell_type": "markdown",
   "metadata": {},
   "source": [
    "![grid-graph-simplified](merged_grid_search_graph.svg)"
   ]
  },
  {
   "cell_type": "markdown",
   "metadata": {},
   "source": [
    "(caching sometimes helps)"
   ]
  },
  {
   "cell_type": "markdown",
   "metadata": {},
   "source": [
    "## Warm-starting in Grid-Search"
   ]
  },
  {
   "cell_type": "markdown",
   "metadata": {},
   "source": [
    "## Model Diagnostics & Plotting\n",
    "https://scikit-learn.org/dev/auto_examples/inspection/plot_partial_dependence.html\n",
    "\n",
    "https://github.com/scikit-learn/scikit-learn/pull/13146\n",
    "\n",
    "![partial dependence](sphx_glr_plot_partial_dependence_001.png)"
   ]
  },
  {
   "cell_type": "code",
   "execution_count": null,
   "metadata": {},
   "outputs": [],
   "source": []
  }
 ],
 "metadata": {
  "kernelspec": {
   "display_name": "Python 3",
   "language": "python",
   "name": "python3"
  },
  "language_info": {
   "codemirror_mode": {
    "name": "ipython",
    "version": 3
   },
   "file_extension": ".py",
   "mimetype": "text/x-python",
   "name": "python",
   "nbconvert_exporter": "python",
   "pygments_lexer": "ipython3",
   "version": "3.7.1"
  }
 },
 "nbformat": 4,
 "nbformat_minor": 2
}
